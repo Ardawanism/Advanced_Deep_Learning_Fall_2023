{
 "cells": [
  {
   "cell_type": "markdown",
   "metadata": {
    "id": "chWchT6TYttG"
   },
   "source": [
    "Coding Perceptron from scratch for binary classification,\n",
    "for Advanced Deep Learning Course, Fall 2023,\n",
    "\n",
    "Programmed by Ardavan Modarres\n",
    "ardavan.modarres@email.kntu.ac.ir\n",
    "* 2023-10-04: Initial coding\n"
   ]
  },
  {
   "cell_type": "code",
   "execution_count": 1,
   "metadata": {
    "colab": {
     "base_uri": "https://localhost:8080/"
    },
    "id": "tSUI2ztDvfRh",
    "outputId": "46a471e0-cbc0-468d-c42d-c5337a5b8ba2"
   },
   "outputs": [
    {
     "name": "stdout",
     "output_type": "stream",
     "text": [
      "numpy version :  1.21.5\n",
      "pandas version :  1.1.3\n",
      "scipy version :  1.7.3\n",
      "\n",
      "done!\n"
     ]
    }
   ],
   "source": [
    "# import npackages\n",
    "import numpy as np\n",
    "import matplotlib.pyplot as plt\n",
    "import pandas as pd\n",
    "import scipy\n",
    "from matplotlib import animation\n",
    "print(\"numpy version : \", np.__version__)\n",
    "print(\"pandas version : \", pd.__version__)\n",
    "print(\"scipy version : \", scipy.__version__)\n",
    "print(\"\")\n",
    "print(\"done!\")"
   ]
  },
  {
   "cell_type": "code",
   "execution_count": 2,
   "metadata": {
    "id": "byAKQ2JHvfRq"
   },
   "outputs": [],
   "source": [
    "# defining a function for data generation\n",
    "def generate_data(n1, n2, mean1, cov1, mean2, cov2):\n",
    "    x1 = np.random.multivariate_normal(mean1, cov1, n1)\n",
    "    x2 = np.random.multivariate_normal(mean2, cov2, n2)\n",
    "    y1 = np.ones((n1, 1))\n",
    "    y2 = -np.ones((n2, 1))\n",
    "\n",
    "    plt.scatter(x1[:, 0], x1[:, 1], c = \"red\", s = 30)\n",
    "    plt.scatter(x2[:, 0], x2[:, 1], c = \"green\", s = 30)\n",
    "    plt.axis('equal')\n",
    "    plt.show()\n",
    "\n",
    "    x1 = np.concatenate((x1, np.ones((n1, 1))), axis = 1)\n",
    "    x2 = np.concatenate((x2, np.ones((n2, 1))), axis = 1)\n",
    "    x1 = np.concatenate((x1, y1), axis = 1)\n",
    "    x2 = np.concatenate((x2, y2), axis = 1)\n",
    "\n",
    "    xy = np.concatenate((x1, x2), axis = 0)\n",
    "    print(\"xy.shape: \", xy.shape)\n",
    "    print(\"xyheader: \", xy[0:5,:])\n",
    "\n",
    "    return xy\n"
   ]
  },
  {
   "cell_type": "code",
   "execution_count": 3,
   "metadata": {
    "colab": {
     "base_uri": "https://localhost:8080/",
     "height": 538
    },
    "id": "cEaChFAJvfRs",
    "outputId": "e63c9271-eaf6-446a-dea4-3b3397cd9bb9"
   },
   "outputs": [
    {
     "data": {
      "image/png": "[encoded data removed]",
      "text/plain": [
       "<Figure size 432x288 with 1 Axes>"
      ]
     },
     "metadata": {
      "needs_background": "light"
     },
     "output_type": "display_data"
    },
    {
     "name": "stdout",
     "output_type": "stream",
     "text": [
      "xy.shape:  (200, 4)\n",
      "xyheader:  [[-0.06564438  0.13264031  1.          1.        ]\n",
      " [ 0.19973839  0.20745516  1.          1.        ]\n",
      " [ 0.26413966 -0.30154865  1.          1.        ]\n",
      " [-0.03866999 -0.31530452  1.          1.        ]\n",
      " [ 0.53313458 -0.34254084  1.          1.        ]]\n"
     ]
    }
   ],
   "source": [
    "n1 = 100\n",
    "n2 = 100\n",
    "# data generation\n",
    "mean1 = [0, 0]\n",
    "cov1 = [[0.06, 0], [0, 0.06]]  # diagonal covariance\n",
    "mean2 = [1, 1]\n",
    "cov2 = [[0.06, 0], [0, 0.06]]  # diagonal covariance\n",
    "\n",
    "xy = generate_data(n1, n2, mean1, cov1, mean2, cov2)"
   ]
  },
  {
   "cell_type": "code",
   "execution_count": 4,
   "metadata": {
    "id": "BjseI96vvfRu"
   },
   "outputs": [],
   "source": [
    "class Perceptron:\n",
    "    def __init__(self, xy, learning_rate, num_epochs):\n",
    "        self.xy = xy\n",
    "        self.num_samples = xy.shape[0]\n",
    "        self.num_features = xy.shape[1]-1\n",
    "        self.lr = learning_rate\n",
    "        self.num_epochs = num_epochs\n",
    "        self.wb = np.random.normal(0, .25, size=(self.num_features, 1))\n",
    "        self.history = np.zeros((num_epochs, self.num_features, 1))\n",
    "        self.history[0] = self.wb\n",
    "\n",
    "\n",
    "    def fit(self):\n",
    "        for j in range(self.num_epochs):\n",
    "            if j%100 ==0:\n",
    "                print(\"Epoch : \", j)\n",
    "            for idx, xt in enumerate(self.xy):\n",
    "                net = np.matmul(self.wb.T, xt[0:self.num_features].reshape(-1, 1)).item()\n",
    "                y_pred = self.activation_function(net)\n",
    "                # Perceptron update rule\n",
    "                self.wb += self.lr* (xt[self.num_features].item() - y_pred)*xt[0:self.num_features].reshape(-1, 1)\n",
    "            self.history[j] = self.wb\n",
    "            # print(self.history)\n",
    "\n",
    "    def predict(self, xy):\n",
    "        net = np.matmul(self.wb.T, xy[0:self.num_features].reshape(-1, 1)).item()\n",
    "        y_pred = self.activation_function(net)\n",
    "        return y_pred\n",
    "\n",
    "    def activation_function(self, net):\n",
    "        return np.where(net >= 0, 1, -1)\n",
    "\n",
    "    def plot_hyperplane(self):\n",
    "        class1_idx = np.where(self.xy[:, 3] == 1.)[0]\n",
    "        class2_idx = np.where(self.xy[:, 3] == -1.)[0]\n",
    "        x1 = self.xy[class1_idx, 0:2]\n",
    "        x2 = self.xy[class2_idx, 0:2]\n",
    "\n",
    "        fig = plt.figure()\n",
    "        ax = fig.add_subplot(1, 1, 1)\n",
    "        plt.scatter(x1[:, 0], x1[:, 1], c = \"red\", s = 30)\n",
    "        plt.scatter(x2[:, 0], x2[:, 1], c = \"green\", s = 30)\n",
    "        plt.axis('equal')\n",
    "\n",
    "        x0_1 = np.amin(self.xy[:, 0])\n",
    "        x0_2 = np.amax(self.xy[:, 0])\n",
    "        x1_1 = (-self.wb[0,0] * x0_1 - self.wb[2,0]) / self.wb[1,0]\n",
    "        x1_2 = (-self.wb[0,0] * x0_2 - self.wb[2,0]) / self.wb[1,0]\n",
    "        plt.plot([x0_1, x0_2], [x1_1, x1_2], \"k\")\n",
    "\n",
    "        ymin = np.amin(xy[:, 1])\n",
    "        ymax = np.amax(xy[:, 1])\n",
    "        ax.set_ylim([ymin - 0.5, ymax + 0.5])\n",
    "\n",
    "\n",
    "        plt.show()"
   ]
  },
  {
   "cell_type": "code",
   "execution_count": 5,
   "metadata": {
    "colab": {
     "base_uri": "https://localhost:8080/"
    },
    "id": "9SRG_0ayvfRv",
    "outputId": "21d56579-556a-4e86-8f62-c7ad28455f45"
   },
   "outputs": [
    {
     "name": "stdout",
     "output_type": "stream",
     "text": [
      "Epoch :  0\n",
      "Epoch :  100\n",
      "Epoch :  200\n"
     ]
    },
    {
     "data": {
      "image/png": "[encoded data removed]",
      "text/plain": [
       "<Figure size 432x288 with 1 Axes>"
      ]
     },
     "metadata": {
      "needs_background": "light"
     },
     "output_type": "display_data"
    }
   ],
   "source": [
    "def accuracy(y_true, y_pred):\n",
    "    accuracy = np.sum(y_true == y_pred) / len(y_true)\n",
    "    return accuracy\n",
    "\n",
    "p = Perceptron(xy, 0.005, 201)\n",
    "p.fit()\n",
    "p.plot_hyperplane()"
   ]
  }
 ],
 "metadata": {
  "colab": {
   "provenance": []
  },
  "kernelspec": {
   "display_name": "NNDLUT",
   "language": "python",
   "name": "nndlut"
  },
  "language_info": {
   "codemirror_mode": {
    "name": "ipython",
    "version": 3
   },
   "file_extension": ".py",
   "mimetype": "text/x-python",
   "name": "python",
   "nbconvert_exporter": "python",
   "pygments_lexer": "ipython3",
   "version": "3.8.12"
  }
 },
 "nbformat": 4,
 "nbformat_minor": 1
}
